{
 "cells": [
  {
   "cell_type": "markdown",
   "metadata": {},
   "source": [
    "##Casusopdracht 1\n",
    "De eerste verkenning heeft als doel om bekend te raken met de dataset. Hiervoor gaan jullie een eerste iteratie van stappen 1 en 2 van CRISP-DM uitvoeren. Dat zijn:\n",
    "\n",
    "1. Data Understanding met Data collection en Data exploration & analysis\n",
    "2. Data Preparation met Data cleaning en Data processing (ook wel data munging genoemd)\n",
    "<br>\n",
    "<br>\n",
    "\n",
    "### Opdrachtomschrijving\n",
    "\n",
    "Lever een Jupyter Notebook in met de volgende onderdelen:\n",
    "\n",
    "- Een eerste verkenning en analyse van je dataset:\n",
    "  - Kies een aantal featurevariabelen die interessant lijken, de targetvariabele is gegeven\n",
    "    - Bepaal of het afhankelijke of onafhankelijke variabelen zijn\n",
    "    - Bepaal de meetniveau's van deze variabelen, dat is nuttige informatie bij de modelkeuze\n",
    "  - Voer een analyse uit voor deze featurevariabelen en de targetvariabele\n",
    "    - Denk hierbij aan het gebruiken van centrum- en spreidingsmaten, het bepalen van outliers, etc.\n",
    "- Een eerste versie van de data preparation:\n",
    "  - Schoon de dataset op voor deze variabelen zodanig dat deze geschikt is als input voor een model"
   ]
  },
  {
   "cell_type": "code",
   "execution_count": 1,
   "metadata": {},
   "outputs": [
    {
     "name": "stderr",
     "output_type": "stream",
     "text": [
      "C:\\Users\\koens\\AppData\\Local\\Temp\\ipykernel_44792\\3632437423.py:1: DeprecationWarning: \n",
      "Pyarrow will become a required dependency of pandas in the next major release of pandas (pandas 3.0),\n",
      "(to allow more performant data types, such as the Arrow string type, and better interoperability with other libraries)\n",
      "but was not found to be installed on your system.\n",
      "If this would cause problems for you,\n",
      "please provide us feedback at https://github.com/pandas-dev/pandas/issues/54466\n",
      "        \n",
      "  import pandas as pd\n"
     ]
    }
   ],
   "source": [
    "import pandas as pd\n",
    "import seaborn as sns\n",
    "import matplotlib.pyplot as plt"
   ]
  },
  {
   "cell_type": "code",
   "execution_count": 2,
   "metadata": {},
   "outputs": [],
   "source": [
    "db = pd.read_csv(\"movie.csv\")"
   ]
  },
  {
   "cell_type": "code",
   "execution_count": 3,
   "metadata": {},
   "outputs": [
    {
     "data": {
      "text/html": [
       "<div>\n",
       "<style scoped>\n",
       "    .dataframe tbody tr th:only-of-type {\n",
       "        vertical-align: middle;\n",
       "    }\n",
       "\n",
       "    .dataframe tbody tr th {\n",
       "        vertical-align: top;\n",
       "    }\n",
       "\n",
       "    .dataframe thead th {\n",
       "        text-align: right;\n",
       "    }\n",
       "</style>\n",
       "<table border=\"1\" class=\"dataframe\">\n",
       "  <thead>\n",
       "    <tr style=\"text-align: right;\">\n",
       "      <th></th>\n",
       "      <th>color</th>\n",
       "      <th>director_name</th>\n",
       "      <th>num_critic_for_reviews</th>\n",
       "      <th>duration</th>\n",
       "      <th>director_facebook_likes</th>\n",
       "      <th>actor_3_facebook_likes</th>\n",
       "      <th>actor_2_name</th>\n",
       "      <th>actor_1_facebook_likes</th>\n",
       "      <th>gross</th>\n",
       "      <th>genres</th>\n",
       "      <th>...</th>\n",
       "      <th>num_user_for_reviews</th>\n",
       "      <th>language</th>\n",
       "      <th>country</th>\n",
       "      <th>content_rating</th>\n",
       "      <th>budget</th>\n",
       "      <th>title_year</th>\n",
       "      <th>actor_2_facebook_likes</th>\n",
       "      <th>imdb_score</th>\n",
       "      <th>aspect_ratio</th>\n",
       "      <th>movie_facebook_likes</th>\n",
       "    </tr>\n",
       "  </thead>\n",
       "  <tbody>\n",
       "    <tr>\n",
       "      <th>0</th>\n",
       "      <td>Color</td>\n",
       "      <td>James Cameron</td>\n",
       "      <td>723.0</td>\n",
       "      <td>178.0</td>\n",
       "      <td>0.0</td>\n",
       "      <td>855.0</td>\n",
       "      <td>Joel David Moore</td>\n",
       "      <td>1000.0</td>\n",
       "      <td>760505847.0</td>\n",
       "      <td>Action|Adventure|Fantasy|Sci-Fi</td>\n",
       "      <td>...</td>\n",
       "      <td>3054.0</td>\n",
       "      <td>English</td>\n",
       "      <td>USA</td>\n",
       "      <td>PG-13</td>\n",
       "      <td>237000000.0</td>\n",
       "      <td>2009.0</td>\n",
       "      <td>936.0</td>\n",
       "      <td>7.9</td>\n",
       "      <td>1.78</td>\n",
       "      <td>33000</td>\n",
       "    </tr>\n",
       "    <tr>\n",
       "      <th>1</th>\n",
       "      <td>Color</td>\n",
       "      <td>Gore Verbinski</td>\n",
       "      <td>302.0</td>\n",
       "      <td>169.0</td>\n",
       "      <td>563.0</td>\n",
       "      <td>1000.0</td>\n",
       "      <td>Orlando Bloom</td>\n",
       "      <td>40000.0</td>\n",
       "      <td>309404152.0</td>\n",
       "      <td>Action|Adventure|Fantasy</td>\n",
       "      <td>...</td>\n",
       "      <td>1238.0</td>\n",
       "      <td>English</td>\n",
       "      <td>USA</td>\n",
       "      <td>PG-13</td>\n",
       "      <td>300000000.0</td>\n",
       "      <td>2007.0</td>\n",
       "      <td>5000.0</td>\n",
       "      <td>7.1</td>\n",
       "      <td>2.35</td>\n",
       "      <td>0</td>\n",
       "    </tr>\n",
       "    <tr>\n",
       "      <th>2</th>\n",
       "      <td>Color</td>\n",
       "      <td>Sam Mendes</td>\n",
       "      <td>602.0</td>\n",
       "      <td>148.0</td>\n",
       "      <td>0.0</td>\n",
       "      <td>161.0</td>\n",
       "      <td>Rory Kinnear</td>\n",
       "      <td>11000.0</td>\n",
       "      <td>200074175.0</td>\n",
       "      <td>Action|Adventure|Thriller</td>\n",
       "      <td>...</td>\n",
       "      <td>994.0</td>\n",
       "      <td>English</td>\n",
       "      <td>UK</td>\n",
       "      <td>PG-13</td>\n",
       "      <td>245000000.0</td>\n",
       "      <td>2015.0</td>\n",
       "      <td>393.0</td>\n",
       "      <td>6.8</td>\n",
       "      <td>2.35</td>\n",
       "      <td>85000</td>\n",
       "    </tr>\n",
       "    <tr>\n",
       "      <th>3</th>\n",
       "      <td>Color</td>\n",
       "      <td>Christopher Nolan</td>\n",
       "      <td>813.0</td>\n",
       "      <td>164.0</td>\n",
       "      <td>22000.0</td>\n",
       "      <td>23000.0</td>\n",
       "      <td>Christian Bale</td>\n",
       "      <td>27000.0</td>\n",
       "      <td>448130642.0</td>\n",
       "      <td>Action|Thriller</td>\n",
       "      <td>...</td>\n",
       "      <td>2701.0</td>\n",
       "      <td>English</td>\n",
       "      <td>USA</td>\n",
       "      <td>PG-13</td>\n",
       "      <td>250000000.0</td>\n",
       "      <td>2012.0</td>\n",
       "      <td>23000.0</td>\n",
       "      <td>8.5</td>\n",
       "      <td>2.35</td>\n",
       "      <td>164000</td>\n",
       "    </tr>\n",
       "    <tr>\n",
       "      <th>4</th>\n",
       "      <td>NaN</td>\n",
       "      <td>Doug Walker</td>\n",
       "      <td>NaN</td>\n",
       "      <td>NaN</td>\n",
       "      <td>131.0</td>\n",
       "      <td>NaN</td>\n",
       "      <td>Rob Walker</td>\n",
       "      <td>131.0</td>\n",
       "      <td>NaN</td>\n",
       "      <td>Documentary</td>\n",
       "      <td>...</td>\n",
       "      <td>NaN</td>\n",
       "      <td>NaN</td>\n",
       "      <td>NaN</td>\n",
       "      <td>NaN</td>\n",
       "      <td>NaN</td>\n",
       "      <td>NaN</td>\n",
       "      <td>12.0</td>\n",
       "      <td>7.1</td>\n",
       "      <td>NaN</td>\n",
       "      <td>0</td>\n",
       "    </tr>\n",
       "  </tbody>\n",
       "</table>\n",
       "<p>5 rows × 28 columns</p>\n",
       "</div>"
      ],
      "text/plain": [
       "   color      director_name  num_critic_for_reviews  duration  \\\n",
       "0  Color      James Cameron                   723.0     178.0   \n",
       "1  Color     Gore Verbinski                   302.0     169.0   \n",
       "2  Color         Sam Mendes                   602.0     148.0   \n",
       "3  Color  Christopher Nolan                   813.0     164.0   \n",
       "4    NaN        Doug Walker                     NaN       NaN   \n",
       "\n",
       "   director_facebook_likes  actor_3_facebook_likes      actor_2_name  \\\n",
       "0                      0.0                   855.0  Joel David Moore   \n",
       "1                    563.0                  1000.0     Orlando Bloom   \n",
       "2                      0.0                   161.0      Rory Kinnear   \n",
       "3                  22000.0                 23000.0    Christian Bale   \n",
       "4                    131.0                     NaN        Rob Walker   \n",
       "\n",
       "   actor_1_facebook_likes        gross                           genres  ...  \\\n",
       "0                  1000.0  760505847.0  Action|Adventure|Fantasy|Sci-Fi  ...   \n",
       "1                 40000.0  309404152.0         Action|Adventure|Fantasy  ...   \n",
       "2                 11000.0  200074175.0        Action|Adventure|Thriller  ...   \n",
       "3                 27000.0  448130642.0                  Action|Thriller  ...   \n",
       "4                   131.0          NaN                      Documentary  ...   \n",
       "\n",
       "  num_user_for_reviews language  country  content_rating       budget  \\\n",
       "0               3054.0  English      USA           PG-13  237000000.0   \n",
       "1               1238.0  English      USA           PG-13  300000000.0   \n",
       "2                994.0  English       UK           PG-13  245000000.0   \n",
       "3               2701.0  English      USA           PG-13  250000000.0   \n",
       "4                  NaN      NaN      NaN             NaN          NaN   \n",
       "\n",
       "   title_year actor_2_facebook_likes imdb_score  aspect_ratio  \\\n",
       "0      2009.0                  936.0        7.9          1.78   \n",
       "1      2007.0                 5000.0        7.1          2.35   \n",
       "2      2015.0                  393.0        6.8          2.35   \n",
       "3      2012.0                23000.0        8.5          2.35   \n",
       "4         NaN                   12.0        7.1           NaN   \n",
       "\n",
       "  movie_facebook_likes  \n",
       "0                33000  \n",
       "1                    0  \n",
       "2                85000  \n",
       "3               164000  \n",
       "4                    0  \n",
       "\n",
       "[5 rows x 28 columns]"
      ]
     },
     "execution_count": 3,
     "metadata": {},
     "output_type": "execute_result"
    }
   ],
   "source": [
    "db.head()"
   ]
  },
  {
   "cell_type": "code",
   "execution_count": 4,
   "metadata": {},
   "outputs": [
    {
     "data": {
      "text/plain": [
       "['color',\n",
       " 'director_name',\n",
       " 'num_critic_for_reviews',\n",
       " 'duration',\n",
       " 'director_facebook_likes',\n",
       " 'actor_3_facebook_likes',\n",
       " 'actor_2_name',\n",
       " 'actor_1_facebook_likes',\n",
       " 'gross',\n",
       " 'genres',\n",
       " 'actor_1_name',\n",
       " 'movie_title',\n",
       " 'num_voted_users',\n",
       " 'cast_total_facebook_likes',\n",
       " 'actor_3_name',\n",
       " 'facenumber_in_poster',\n",
       " 'plot_keywords',\n",
       " 'movie_imdb_link',\n",
       " 'num_user_for_reviews',\n",
       " 'language',\n",
       " 'country',\n",
       " 'content_rating',\n",
       " 'budget',\n",
       " 'title_year',\n",
       " 'actor_2_facebook_likes',\n",
       " 'imdb_score',\n",
       " 'aspect_ratio',\n",
       " 'movie_facebook_likes']"
      ]
     },
     "execution_count": 4,
     "metadata": {},
     "output_type": "execute_result"
    }
   ],
   "source": [
    "db.columns.tolist()"
   ]
  },
  {
   "cell_type": "markdown",
   "metadata": {},
   "source": [
    "We moeten de omzet weten van de films dus we willen de `gross` kolom gebruiken als target variabele"
   ]
  },
  {
   "cell_type": "code",
   "execution_count": 5,
   "metadata": {},
   "outputs": [],
   "source": [
    "target = db[\"gross\"]"
   ]
  },
  {
   "cell_type": "code",
   "execution_count": 6,
   "metadata": {},
   "outputs": [
    {
     "data": {
      "text/html": [
       "<div>\n",
       "<style scoped>\n",
       "    .dataframe tbody tr th:only-of-type {\n",
       "        vertical-align: middle;\n",
       "    }\n",
       "\n",
       "    .dataframe tbody tr th {\n",
       "        vertical-align: top;\n",
       "    }\n",
       "\n",
       "    .dataframe thead th {\n",
       "        text-align: right;\n",
       "    }\n",
       "</style>\n",
       "<table border=\"1\" class=\"dataframe\">\n",
       "  <thead>\n",
       "    <tr style=\"text-align: right;\">\n",
       "      <th></th>\n",
       "      <th>movie_title</th>\n",
       "      <th>actor_3_name</th>\n",
       "      <th>actor_2_name</th>\n",
       "      <th>actor_1_name</th>\n",
       "    </tr>\n",
       "  </thead>\n",
       "  <tbody>\n",
       "    <tr>\n",
       "      <th>0</th>\n",
       "      <td>Avatar</td>\n",
       "      <td>Wes Studi</td>\n",
       "      <td>Joel David Moore</td>\n",
       "      <td>CCH Pounder</td>\n",
       "    </tr>\n",
       "    <tr>\n",
       "      <th>1</th>\n",
       "      <td>Pirates of the Caribbean: At World's End</td>\n",
       "      <td>Jack Davenport</td>\n",
       "      <td>Orlando Bloom</td>\n",
       "      <td>Johnny Depp</td>\n",
       "    </tr>\n",
       "    <tr>\n",
       "      <th>2</th>\n",
       "      <td>Spectre</td>\n",
       "      <td>Stephanie Sigman</td>\n",
       "      <td>Rory Kinnear</td>\n",
       "      <td>Christoph Waltz</td>\n",
       "    </tr>\n",
       "    <tr>\n",
       "      <th>3</th>\n",
       "      <td>The Dark Knight Rises</td>\n",
       "      <td>Joseph Gordon-Levitt</td>\n",
       "      <td>Christian Bale</td>\n",
       "      <td>Tom Hardy</td>\n",
       "    </tr>\n",
       "    <tr>\n",
       "      <th>4</th>\n",
       "      <td>Star Wars: Episode VII - The Force Awakens    ...</td>\n",
       "      <td>NaN</td>\n",
       "      <td>Rob Walker</td>\n",
       "      <td>Doug Walker</td>\n",
       "    </tr>\n",
       "    <tr>\n",
       "      <th>5</th>\n",
       "      <td>John Carter</td>\n",
       "      <td>Polly Walker</td>\n",
       "      <td>Samantha Morton</td>\n",
       "      <td>Daryl Sabara</td>\n",
       "    </tr>\n",
       "    <tr>\n",
       "      <th>6</th>\n",
       "      <td>Spider-Man 3</td>\n",
       "      <td>Kirsten Dunst</td>\n",
       "      <td>James Franco</td>\n",
       "      <td>J.K. Simmons</td>\n",
       "    </tr>\n",
       "    <tr>\n",
       "      <th>7</th>\n",
       "      <td>Tangled</td>\n",
       "      <td>M.C. Gainey</td>\n",
       "      <td>Donna Murphy</td>\n",
       "      <td>Brad Garrett</td>\n",
       "    </tr>\n",
       "    <tr>\n",
       "      <th>8</th>\n",
       "      <td>Avengers: Age of Ultron</td>\n",
       "      <td>Scarlett Johansson</td>\n",
       "      <td>Robert Downey Jr.</td>\n",
       "      <td>Chris Hemsworth</td>\n",
       "    </tr>\n",
       "    <tr>\n",
       "      <th>9</th>\n",
       "      <td>Harry Potter and the Half-Blood Prince</td>\n",
       "      <td>Rupert Grint</td>\n",
       "      <td>Daniel Radcliffe</td>\n",
       "      <td>Alan Rickman</td>\n",
       "    </tr>\n",
       "    <tr>\n",
       "      <th>10</th>\n",
       "      <td>Batman v Superman: Dawn of Justice</td>\n",
       "      <td>Alan D. Purwin</td>\n",
       "      <td>Lauren Cohan</td>\n",
       "      <td>Henry Cavill</td>\n",
       "    </tr>\n",
       "    <tr>\n",
       "      <th>11</th>\n",
       "      <td>Superman Returns</td>\n",
       "      <td>Frank Langella</td>\n",
       "      <td>Marlon Brando</td>\n",
       "      <td>Kevin Spacey</td>\n",
       "    </tr>\n",
       "    <tr>\n",
       "      <th>12</th>\n",
       "      <td>Quantum of Solace</td>\n",
       "      <td>Rory Kinnear</td>\n",
       "      <td>Mathieu Amalric</td>\n",
       "      <td>Giancarlo Giannini</td>\n",
       "    </tr>\n",
       "    <tr>\n",
       "      <th>13</th>\n",
       "      <td>Pirates of the Caribbean: Dead Man's Chest</td>\n",
       "      <td>Jack Davenport</td>\n",
       "      <td>Orlando Bloom</td>\n",
       "      <td>Johnny Depp</td>\n",
       "    </tr>\n",
       "    <tr>\n",
       "      <th>14</th>\n",
       "      <td>The Lone Ranger</td>\n",
       "      <td>Tom Wilkinson</td>\n",
       "      <td>Ruth Wilson</td>\n",
       "      <td>Johnny Depp</td>\n",
       "    </tr>\n",
       "    <tr>\n",
       "      <th>15</th>\n",
       "      <td>Man of Steel</td>\n",
       "      <td>Harry Lennix</td>\n",
       "      <td>Christopher Meloni</td>\n",
       "      <td>Henry Cavill</td>\n",
       "    </tr>\n",
       "    <tr>\n",
       "      <th>16</th>\n",
       "      <td>The Chronicles of Narnia: Prince Caspian</td>\n",
       "      <td>Damián Alcázar</td>\n",
       "      <td>Pierfrancesco Favino</td>\n",
       "      <td>Peter Dinklage</td>\n",
       "    </tr>\n",
       "    <tr>\n",
       "      <th>17</th>\n",
       "      <td>The Avengers</td>\n",
       "      <td>Scarlett Johansson</td>\n",
       "      <td>Robert Downey Jr.</td>\n",
       "      <td>Chris Hemsworth</td>\n",
       "    </tr>\n",
       "    <tr>\n",
       "      <th>18</th>\n",
       "      <td>Pirates of the Caribbean: On Stranger Tides</td>\n",
       "      <td>Stephen Graham</td>\n",
       "      <td>Sam Claflin</td>\n",
       "      <td>Johnny Depp</td>\n",
       "    </tr>\n",
       "    <tr>\n",
       "      <th>19</th>\n",
       "      <td>Men in Black 3</td>\n",
       "      <td>Nicole Scherzinger</td>\n",
       "      <td>Michael Stuhlbarg</td>\n",
       "      <td>Will Smith</td>\n",
       "    </tr>\n",
       "  </tbody>\n",
       "</table>\n",
       "</div>"
      ],
      "text/plain": [
       "                                          movie_title          actor_3_name  \\\n",
       "0                                             Avatar              Wes Studi   \n",
       "1           Pirates of the Caribbean: At World's End         Jack Davenport   \n",
       "2                                            Spectre       Stephanie Sigman   \n",
       "3                              The Dark Knight Rises   Joseph Gordon-Levitt   \n",
       "4   Star Wars: Episode VII - The Force Awakens    ...                   NaN   \n",
       "5                                        John Carter           Polly Walker   \n",
       "6                                       Spider-Man 3          Kirsten Dunst   \n",
       "7                                            Tangled            M.C. Gainey   \n",
       "8                            Avengers: Age of Ultron     Scarlett Johansson   \n",
       "9             Harry Potter and the Half-Blood Prince           Rupert Grint   \n",
       "10                Batman v Superman: Dawn of Justice         Alan D. Purwin   \n",
       "11                                  Superman Returns         Frank Langella   \n",
       "12                                 Quantum of Solace           Rory Kinnear   \n",
       "13        Pirates of the Caribbean: Dead Man's Chest         Jack Davenport   \n",
       "14                                   The Lone Ranger          Tom Wilkinson   \n",
       "15                                      Man of Steel           Harry Lennix   \n",
       "16          The Chronicles of Narnia: Prince Caspian         Damián Alcázar   \n",
       "17                                      The Avengers     Scarlett Johansson   \n",
       "18       Pirates of the Caribbean: On Stranger Tides         Stephen Graham   \n",
       "19                                    Men in Black 3     Nicole Scherzinger   \n",
       "\n",
       "            actor_2_name        actor_1_name  \n",
       "0       Joel David Moore         CCH Pounder  \n",
       "1          Orlando Bloom         Johnny Depp  \n",
       "2           Rory Kinnear     Christoph Waltz  \n",
       "3         Christian Bale           Tom Hardy  \n",
       "4             Rob Walker         Doug Walker  \n",
       "5        Samantha Morton        Daryl Sabara  \n",
       "6           James Franco        J.K. Simmons  \n",
       "7           Donna Murphy        Brad Garrett  \n",
       "8      Robert Downey Jr.     Chris Hemsworth  \n",
       "9       Daniel Radcliffe        Alan Rickman  \n",
       "10          Lauren Cohan        Henry Cavill  \n",
       "11         Marlon Brando        Kevin Spacey  \n",
       "12       Mathieu Amalric  Giancarlo Giannini  \n",
       "13         Orlando Bloom         Johnny Depp  \n",
       "14           Ruth Wilson         Johnny Depp  \n",
       "15    Christopher Meloni        Henry Cavill  \n",
       "16  Pierfrancesco Favino      Peter Dinklage  \n",
       "17     Robert Downey Jr.     Chris Hemsworth  \n",
       "18           Sam Claflin         Johnny Depp  \n",
       "19     Michael Stuhlbarg          Will Smith  "
      ]
     },
     "execution_count": 6,
     "metadata": {},
     "output_type": "execute_result"
    }
   ],
   "source": [
    "db[[\"movie_title\", \"actor_3_name\", \"actor_2_name\", \"actor_1_name\"]].head(20)"
   ]
  },
  {
   "cell_type": "code",
   "execution_count": 7,
   "metadata": {},
   "outputs": [
    {
     "data": {
      "text/plain": [
       "num_critic_for_reviews       0.468535\n",
       "duration                     0.244743\n",
       "director_facebook_likes      0.139938\n",
       "actor_3_facebook_likes       0.301584\n",
       "actor_1_facebook_likes       0.147045\n",
       "gross                        1.000000\n",
       "num_voted_users              0.626948\n",
       "cast_total_facebook_likes    0.238687\n",
       "facenumber_in_poster        -0.032254\n",
       "num_user_for_reviews         0.547107\n",
       "budget                       0.100389\n",
       "title_year                   0.052368\n",
       "actor_2_facebook_likes       0.254659\n",
       "imdb_score                   0.212124\n",
       "aspect_ratio                 0.065260\n",
       "movie_facebook_likes         0.368494\n",
       "Name: gross, dtype: float64"
      ]
     },
     "execution_count": 7,
     "metadata": {},
     "output_type": "execute_result"
    }
   ],
   "source": [
    "db.select_dtypes(include=['int', 'float']).dropna().corr()[\"gross\"]\n"
   ]
  },
  {
   "cell_type": "markdown",
   "metadata": {},
   "source": []
  },
  {
   "cell_type": "code",
   "execution_count": 8,
   "metadata": {},
   "outputs": [],
   "source": [
    "interesting = db[[\"gross\", \"actor_1_name\", \"budget\", \"imdb_score\", \"plot_keywords\", \"num_critic_for_reviews\", \"num_voted_users\", \"num_user_for_reviews\", \"movie_facebook_likes\", \"content_rating\", \"language\", \"country\"]]"
   ]
  },
  {
   "cell_type": "code",
   "execution_count": 9,
   "metadata": {},
   "outputs": [
    {
     "data": {
      "text/plain": [
       "gross                     884\n",
       "actor_1_name                7\n",
       "budget                    492\n",
       "imdb_score                  0\n",
       "plot_keywords             153\n",
       "num_critic_for_reviews     50\n",
       "num_voted_users             0\n",
       "num_user_for_reviews       21\n",
       "movie_facebook_likes        0\n",
       "content_rating            303\n",
       "language                   14\n",
       "country                     5\n",
       "dtype: int64"
      ]
     },
     "execution_count": 9,
     "metadata": {},
     "output_type": "execute_result"
    }
   ],
   "source": [
    "interesting.isna().sum()"
   ]
  },
  {
   "cell_type": "code",
   "execution_count": 10,
   "metadata": {},
   "outputs": [
    {
     "data": {
      "text/plain": [
       "5043"
      ]
     },
     "execution_count": 10,
     "metadata": {},
     "output_type": "execute_result"
    }
   ],
   "source": [
    "len(interesting.index)"
   ]
  },
  {
   "cell_type": "markdown",
   "metadata": {},
   "source": [
    "De features die NaN waardes bevatten zijn niet in te vullen met standaard waardes dus we halen deze rijen uit de data."
   ]
  },
  {
   "cell_type": "code",
   "execution_count": 11,
   "metadata": {},
   "outputs": [
    {
     "data": {
      "text/plain": [
       "gross                     0\n",
       "actor_1_name              0\n",
       "budget                    0\n",
       "imdb_score                0\n",
       "plot_keywords             0\n",
       "num_critic_for_reviews    0\n",
       "num_voted_users           0\n",
       "num_user_for_reviews      0\n",
       "movie_facebook_likes      0\n",
       "content_rating            0\n",
       "language                  0\n",
       "country                   0\n",
       "dtype: int64"
      ]
     },
     "execution_count": 11,
     "metadata": {},
     "output_type": "execute_result"
    }
   ],
   "source": [
    "nonna_interesting = interesting.dropna()\n",
    "nonna_interesting.isna().sum()"
   ]
  },
  {
   "cell_type": "code",
   "execution_count": 12,
   "metadata": {},
   "outputs": [
    {
     "data": {
      "text/plain": [
       "3815"
      ]
     },
     "execution_count": 12,
     "metadata": {},
     "output_type": "execute_result"
    }
   ],
   "source": [
    "len(nonna_interesting.index)"
   ]
  },
  {
   "cell_type": "markdown",
   "metadata": {},
   "source": [
    "we zien hier dat er iets meer dan 1200 rijen hierdoor verwijderd waarvan 884 sowiso wegmoeten vanwege dat de \"gross\" kolom een NaN waarde heeft."
   ]
  },
  {
   "cell_type": "code",
   "execution_count": 13,
   "metadata": {},
   "outputs": [
    {
     "data": {
      "text/plain": [
       "<Axes: xlabel='gross', ylabel='Count'>"
      ]
     },
     "execution_count": 13,
     "metadata": {},
     "output_type": "execute_result"
    },
    {
     "data": {
      "image/png": "[encoded data removed]",
      "text/plain": [
       "<Figure size 640x480 with 1 Axes>"
      ]
     },
     "metadata": {},
     "output_type": "display_data"
    }
   ],
   "source": [
    "sns.histplot(nonna_interesting[\"gross\"])"
   ]
  },
  {
   "cell_type": "code",
   "execution_count": 22,
   "metadata": {},
   "outputs": [
    {
     "name": "stdout",
     "output_type": "stream",
     "text": [
      "gross:\n",
      "float64\n",
      "\n",
      "actor_1_name:\n",
      "object\n",
      "\n",
      "budget:\n",
      "float64\n",
      "\n",
      "imdb_score:\n",
      "float64\n",
      "\n",
      "plot_keywords:\n",
      "object\n",
      "\n",
      "num_critic_for_reviews:\n",
      "float64\n",
      "\n",
      "num_voted_users:\n",
      "int64\n",
      "\n",
      "num_user_for_reviews:\n",
      "float64\n",
      "\n",
      "movie_facebook_likes:\n",
      "int64\n",
      "\n",
      "content_rating:\n",
      "object\n",
      "\n",
      "language:\n",
      "object\n",
      "\n",
      "country:\n",
      "object\n",
      "\n"
     ]
    }
   ],
   "source": [
    "for column in nonna_interesting.columns:\n",
    "    print(f\"{column}:\")\n",
    "    print(f\"{nonna_interesting[column].dtypes}\\n\")\n"
   ]
  },
  {
   "cell_type": "code",
   "execution_count": null,
   "metadata": {},
   "outputs": [],
   "source": []
  }
 ],
 "metadata": {
  "kernelspec": {
   "display_name": "testenv",
   "language": "python",
   "name": "python3"
  },
  "language_info": {
   "codemirror_mode": {
    "name": "ipython",
    "version": 3
   },
   "file_extension": ".py",
   "mimetype": "text/x-python",
   "name": "python",
   "nbconvert_exporter": "python",
   "pygments_lexer": "ipython3",
   "version": "3.10.13"
  }
 },
 "nbformat": 4,
 "nbformat_minor": 2
}
