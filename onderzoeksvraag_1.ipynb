{
 "cells": [
  {
   "cell_type": "markdown",
   "metadata": {},
   "source": [
    "# Casusopdracht \n"
   ]
  },
  {
   "cell_type": "markdown",
   "metadata": {},
   "source": [
    "## Inhoudopgave\n",
    "\n"
   ]
  },
  {
   "cell_type": "markdown",
   "metadata": {},
   "source": [
    "## Inleiding"
   ]
  },
  {
   "cell_type": "code",
   "execution_count": 46,
   "metadata": {},
   "outputs": [],
   "source": [
    "import pandas as pd\n",
    "import numpy as np\n",
    "from statistics import mode\n",
    "from sklearn.model_selection import train_test_split\n",
    "from sklearn.linear_model import LinearRegression\n",
    "from itertools import combinations\n",
    "from sklearn.metrics import root_mean_squared_error\n",
    "from sklearn.metrics import r2_score\n"
   ]
  },
  {
   "cell_type": "markdown",
   "metadata": {},
   "source": [
    "## 1. Modeling"
   ]
  },
  {
   "cell_type": "code",
   "execution_count": 47,
   "metadata": {},
   "outputs": [],
   "source": [
    "df = pd.read_csv(\"vraag_1_movies.csv\")"
   ]
  },
  {
   "cell_type": "markdown",
   "metadata": {},
   "source": [
    "### 1.1 Baseline model"
   ]
  },
  {
   "cell_type": "code",
   "execution_count": 48,
   "metadata": {},
   "outputs": [
    {
     "data": {
      "text/plain": [
       "67968859.53127213"
      ]
     },
     "execution_count": 48,
     "metadata": {},
     "output_type": "execute_result"
    }
   ],
   "source": [
    "def baseline(X):\n",
    "    return np.full(len(X), fill_value=np.mean(df[\"gross\"]))\n",
    "\n",
    "root_mean_squared_error(df[\"gross\"], baseline(df[\"gross\"]))"
   ]
  },
  {
   "cell_type": "code",
   "execution_count": 49,
   "metadata": {},
   "outputs": [
    {
     "data": {
      "text/plain": [
       "array([4.25415462e-01, 9.08541204e-01, 8.10970390e+00, 5.81224484e+03])"
      ]
     },
     "execution_count": 49,
     "metadata": {},
     "output_type": "execute_result"
    }
   ],
   "source": [
    "def procmse(X, x):\n",
    "    return [np.sqrt((I-i)**2)/I for I, i in zip(X,x)]\n",
    "\n",
    "\n",
    "np.percentile(procmse(df[\"gross\"], baseline(df[\"gross\"])), [25, 50, 75, 99])"
   ]
  },
  {
   "cell_type": "code",
   "execution_count": 50,
   "metadata": {},
   "outputs": [
    {
     "data": {
      "text/plain": [
       "353.35401507347353"
      ]
     },
     "execution_count": 50,
     "metadata": {},
     "output_type": "execute_result"
    }
   ],
   "source": [
    "np.mean(procmse(df[\"gross\"], baseline(df[\"gross\"])))"
   ]
  },
  {
   "cell_type": "markdown",
   "metadata": {},
   "source": [
    "50% van de gokken zitten onder 91% ernaast"
   ]
  },
  {
   "cell_type": "markdown",
   "metadata": {},
   "source": [
    "### 1.2 Data splitsen"
   ]
  },
  {
   "cell_type": "code",
   "execution_count": 51,
   "metadata": {},
   "outputs": [],
   "source": [
    "\n",
    "X = df.drop(\"gross\", axis=1)\n",
    "y = df[\"gross\"]\n",
    "\n",
    "X_train, X_test, y_train, y_test = train_test_split(X, y, random_state=42, test_size=0.25)\n"
   ]
  },
  {
   "cell_type": "markdown",
   "metadata": {},
   "source": [
    "### 1.3 Model keuze"
   ]
  },
  {
   "cell_type": "markdown",
   "metadata": {},
   "source": [
    "We werken hier met een continue target variabele en met kwantitatieve feature variabelen om deze reden gaan we werken met een lineare regressie model."
   ]
  },
  {
   "cell_type": "code",
   "execution_count": 52,
   "metadata": {},
   "outputs": [],
   "source": [
    "\n",
    "model = LinearRegression()\n"
   ]
  },
  {
   "cell_type": "markdown",
   "metadata": {},
   "source": [
    "### 1.4 model trainen"
   ]
  },
  {
   "cell_type": "code",
   "execution_count": 53,
   "metadata": {},
   "outputs": [],
   "source": [
    "model.fit(X_train, y_train)\n",
    "\n",
    "y_pred = model.predict(X_test)\n"
   ]
  },
  {
   "cell_type": "markdown",
   "metadata": {},
   "source": [
    "### 1.5 evaluatie"
   ]
  },
  {
   "cell_type": "code",
   "execution_count": 54,
   "metadata": {},
   "outputs": [
    {
     "name": "stdout",
     "output_type": "stream",
     "text": [
      "mrse: 54495229.205467544\n",
      "r2 score at 0.45713382109378764\n"
     ]
    }
   ],
   "source": [
    "print(f\"mrse: {root_mean_squared_error(y_pred=y_pred, y_true=y_test)}\")\n",
    "print(f\"r2 score at {r2_score(y_test, y_pred)}\")"
   ]
  },
  {
   "cell_type": "code",
   "execution_count": 55,
   "metadata": {},
   "outputs": [
    {
     "data": {
      "text/plain": [
       "array([3.61672493e-01, 6.82578554e-01, 3.18012988e+00, 1.83514380e+03])"
      ]
     },
     "execution_count": 55,
     "metadata": {},
     "output_type": "execute_result"
    }
   ],
   "source": [
    "np.percentile(procmse(y_test, y_pred), [25, 50, 75, 99])"
   ]
  },
  {
   "cell_type": "code",
   "execution_count": 56,
   "metadata": {},
   "outputs": [
    {
     "data": {
      "text/plain": [
       "90.21623269630646"
      ]
     },
     "execution_count": 56,
     "metadata": {},
     "output_type": "execute_result"
    }
   ],
   "source": [
    "np.mean(procmse(y_test, y_pred))"
   ]
  },
  {
   "cell_type": "markdown",
   "metadata": {},
   "source": [
    "### 1.6 finetuning"
   ]
  },
  {
   "cell_type": "code",
   "execution_count": 57,
   "metadata": {},
   "outputs": [
    {
     "data": {
      "text/html": [
       "<div>\n",
       "<style scoped>\n",
       "    .dataframe tbody tr th:only-of-type {\n",
       "        vertical-align: middle;\n",
       "    }\n",
       "\n",
       "    .dataframe tbody tr th {\n",
       "        vertical-align: top;\n",
       "    }\n",
       "\n",
       "    .dataframe thead th {\n",
       "        text-align: right;\n",
       "    }\n",
       "</style>\n",
       "<table border=\"1\" class=\"dataframe\">\n",
       "  <thead>\n",
       "    <tr style=\"text-align: right;\">\n",
       "      <th></th>\n",
       "      <th>gross</th>\n",
       "      <th>imdb_score</th>\n",
       "      <th>num_critic_for_reviews</th>\n",
       "      <th>num_voted_users</th>\n",
       "      <th>num_user_for_reviews</th>\n",
       "      <th>movie_facebook_likes</th>\n",
       "    </tr>\n",
       "  </thead>\n",
       "  <tbody>\n",
       "    <tr>\n",
       "      <th>0</th>\n",
       "      <td>760505847.0</td>\n",
       "      <td>7.9</td>\n",
       "      <td>723.0</td>\n",
       "      <td>886204</td>\n",
       "      <td>3054.0</td>\n",
       "      <td>33000</td>\n",
       "    </tr>\n",
       "    <tr>\n",
       "      <th>1</th>\n",
       "      <td>309404152.0</td>\n",
       "      <td>7.1</td>\n",
       "      <td>302.0</td>\n",
       "      <td>471220</td>\n",
       "      <td>1238.0</td>\n",
       "      <td>0</td>\n",
       "    </tr>\n",
       "    <tr>\n",
       "      <th>2</th>\n",
       "      <td>200074175.0</td>\n",
       "      <td>6.8</td>\n",
       "      <td>602.0</td>\n",
       "      <td>275868</td>\n",
       "      <td>994.0</td>\n",
       "      <td>85000</td>\n",
       "    </tr>\n",
       "    <tr>\n",
       "      <th>3</th>\n",
       "      <td>448130642.0</td>\n",
       "      <td>8.5</td>\n",
       "      <td>813.0</td>\n",
       "      <td>1144337</td>\n",
       "      <td>2701.0</td>\n",
       "      <td>164000</td>\n",
       "    </tr>\n",
       "    <tr>\n",
       "      <th>4</th>\n",
       "      <td>73058679.0</td>\n",
       "      <td>6.6</td>\n",
       "      <td>462.0</td>\n",
       "      <td>212204</td>\n",
       "      <td>738.0</td>\n",
       "      <td>24000</td>\n",
       "    </tr>\n",
       "    <tr>\n",
       "      <th>...</th>\n",
       "      <td>...</td>\n",
       "      <td>...</td>\n",
       "      <td>...</td>\n",
       "      <td>...</td>\n",
       "      <td>...</td>\n",
       "      <td>...</td>\n",
       "    </tr>\n",
       "    <tr>\n",
       "      <th>4116</th>\n",
       "      <td>70071.0</td>\n",
       "      <td>6.3</td>\n",
       "      <td>35.0</td>\n",
       "      <td>589</td>\n",
       "      <td>35.0</td>\n",
       "      <td>74</td>\n",
       "    </tr>\n",
       "    <tr>\n",
       "      <th>4117</th>\n",
       "      <td>2040920.0</td>\n",
       "      <td>6.9</td>\n",
       "      <td>56.0</td>\n",
       "      <td>52055</td>\n",
       "      <td>130.0</td>\n",
       "      <td>0</td>\n",
       "    </tr>\n",
       "    <tr>\n",
       "      <th>4118</th>\n",
       "      <td>4584.0</td>\n",
       "      <td>6.4</td>\n",
       "      <td>14.0</td>\n",
       "      <td>1338</td>\n",
       "      <td>14.0</td>\n",
       "      <td>413</td>\n",
       "    </tr>\n",
       "    <tr>\n",
       "      <th>4119</th>\n",
       "      <td>10443.0</td>\n",
       "      <td>6.3</td>\n",
       "      <td>14.0</td>\n",
       "      <td>1255</td>\n",
       "      <td>9.0</td>\n",
       "      <td>660</td>\n",
       "    </tr>\n",
       "    <tr>\n",
       "      <th>4120</th>\n",
       "      <td>85222.0</td>\n",
       "      <td>6.6</td>\n",
       "      <td>43.0</td>\n",
       "      <td>4285</td>\n",
       "      <td>84.0</td>\n",
       "      <td>456</td>\n",
       "    </tr>\n",
       "  </tbody>\n",
       "</table>\n",
       "<p>4121 rows × 6 columns</p>\n",
       "</div>"
      ],
      "text/plain": [
       "            gross  imdb_score  num_critic_for_reviews  num_voted_users  \\\n",
       "0     760505847.0         7.9                   723.0           886204   \n",
       "1     309404152.0         7.1                   302.0           471220   \n",
       "2     200074175.0         6.8                   602.0           275868   \n",
       "3     448130642.0         8.5                   813.0          1144337   \n",
       "4      73058679.0         6.6                   462.0           212204   \n",
       "...           ...         ...                     ...              ...   \n",
       "4116      70071.0         6.3                    35.0              589   \n",
       "4117    2040920.0         6.9                    56.0            52055   \n",
       "4118       4584.0         6.4                    14.0             1338   \n",
       "4119      10443.0         6.3                    14.0             1255   \n",
       "4120      85222.0         6.6                    43.0             4285   \n",
       "\n",
       "      num_user_for_reviews  movie_facebook_likes  \n",
       "0                   3054.0                 33000  \n",
       "1                   1238.0                     0  \n",
       "2                    994.0                 85000  \n",
       "3                   2701.0                164000  \n",
       "4                    738.0                 24000  \n",
       "...                    ...                   ...  \n",
       "4116                  35.0                    74  \n",
       "4117                 130.0                     0  \n",
       "4118                  14.0                   413  \n",
       "4119                   9.0                   660  \n",
       "4120                  84.0                   456  \n",
       "\n",
       "[4121 rows x 6 columns]"
      ]
     },
     "execution_count": 57,
     "metadata": {},
     "output_type": "execute_result"
    }
   ],
   "source": [
    "df"
   ]
  },
  {
   "cell_type": "code",
   "execution_count": 58,
   "metadata": {},
   "outputs": [
    {
     "name": "stdout",
     "output_type": "stream",
     "text": [
      "['imdb_score', 'num_voted_users', 'num_user_for_reviews'] has the best mrse at 53186030.24448845\n",
      "['imdb_score', 'num_voted_users', 'num_user_for_reviews'] has the best r2 score at 0.471732387731122\n"
     ]
    }
   ],
   "source": [
    "\n",
    "\n",
    "all_combinations = []\n",
    "columns = X.columns\n",
    "for r in range(1, len(columns) + 1):\n",
    "    all_combinations.extend(combinations(columns, r))\n",
    "\n",
    "best_r2 = -20\n",
    "best_mrse= 99999999999999999\n",
    "for combo in all_combinations:\n",
    "    combo = list(combo)\n",
    "    X_train, X_test, y_train, y_test = train_test_split(df[combo], df['gross'], test_size=0.20, random_state=42)\n",
    "\n",
    "    model = LinearRegression()\n",
    "    model.fit(X_train,y_train)\n",
    "\n",
    "    y_pred = model.predict(X_test)\n",
    "    mse = root_mean_squared_error(y_test, y_pred)\n",
    "\n",
    "    if mse < best_mrse:\n",
    "        best_mrse = mse\n",
    "        best_mrse_combo = combo\n",
    "        best_model = model\n",
    "    if r2_score(y_test, y_pred) > best_r2:\n",
    "        best_r2 = r2_score(y_test, y_pred)\n",
    "        best_r2_combo = combo\n",
    "\n",
    "print(f\"{best_mrse_combo} has the best mrse at {best_mrse}\")\n",
    "print(f\"{best_r2_combo} has the best r2 score at {best_r2}\")"
   ]
  },
  {
   "cell_type": "code",
   "execution_count": null,
   "metadata": {},
   "outputs": [],
   "source": []
  },
  {
   "cell_type": "code",
   "execution_count": null,
   "metadata": {},
   "outputs": [],
   "source": []
  }
 ],
 "metadata": {
  "kernelspec": {
   "display_name": "VolkerProj",
   "language": "python",
   "name": "python3"
  },
  "language_info": {
   "codemirror_mode": {
    "name": "ipython",
    "version": 3
   },
   "file_extension": ".py",
   "mimetype": "text/x-python",
   "name": "python",
   "nbconvert_exporter": "python",
   "pygments_lexer": "ipython3",
   "version": "3.10.13"
  }
 },
 "nbformat": 4,
 "nbformat_minor": 2
}
